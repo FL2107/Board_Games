{
 "cells": [
  {
   "cell_type": "markdown",
   "metadata": {},
   "source": [
    "## Напишем через рандом нумпая и классы\n",
    "Используем список, генерируемый в начале работы через numpy rd.randint(0, 33554432, 262144)"
   ]
  },
  {
   "cell_type": "code",
   "execution_count": 26,
   "metadata": {},
   "outputs": [
    {
     "data": {
      "text/plain": [
       "array([[105,  38,   0,  22,   6,  48,  45,  94, 103,  30,  93,  61,  68,\n",
       "        102,  95,  94,  80,  60,  15,  10, 106, 107,  43,  84,  66,  45,\n",
       "         28,  76,  66,  48,  51,   6,  81,  10,  34,  86,  67,  19,  56,\n",
       "         66,  39,  77,  51,  20,  28,  98,  17,   3,  46,  78,   8, 107,\n",
       "         77,   4,  98,  88,  95,  19,  79,  26,  46,   5,  43,  48,  44,\n",
       "          1,   2,   0,  10,  11,  65,  62, 100, 103,  52,  11,  87,  92,\n",
       "         51, 107, 101,  79,  50,  68, 103,  56,  18,  57,  23, 105,  50,\n",
       "         84, 102,  22,  59,   8,  17,  15,  51,  44,  13,  36,  92, 104,\n",
       "         46,  65,   6, 106,  50,  50],\n",
       "       [ 82,  52,  35,  75,  53,  39,  63, 107,   5,  81,  53,  57,  76,\n",
       "         75, 102,  99,   0,  38,  38,  98,  79,   2,  29,  37,  45,   3,\n",
       "         74,  54,  49,  65,  20,  87,   4,  60,  52,   1,   5,  45,  16,\n",
       "          8, 108,  85,  56,  88,  65,  53,  95,  46,  38,  79,  91, 107,\n",
       "         52,  49, 103, 104,  86,  33,  12,  68,  67,  51,  40,  49, 105,\n",
       "         91,  89,   4,  31,  89,  69,  29,  74,  44,  87,  44,  30,  45,\n",
       "         88,  25, 106, 105,  90,  67,  15, 101,  44,  63,  15,  77,  70,\n",
       "         77,  20,  56,  29,   3,  37,  27, 104,  76,  31,  94,  46,  93,\n",
       "         80,  23,  33,  33,   6,  60]], dtype=int32)"
      ]
     },
     "execution_count": 26,
     "metadata": {},
     "output_type": "execute_result"
    }
   ],
   "source": [
    "from numpy import random as rd\n",
    "import numpy as np\n",
    "import matplotlib.pyplot as plt\n",
    "\n",
    "\n",
    "deck_names = {\"green\":0, \"blue\":1, \"white\":2, \"yellow\":3, \"red\":4, \"black\":5, \"pink\":6, \"orange\":7, \"locomotive\":8, \"gray\": 9}\n",
    "deck_names_inv = [\"green\", \"blue\", \"white\", \"yellow\", \"red\", \"black\", \"pink\", \"orange\", \"locomotive\", \"gray\"]\n",
    "\n",
    "class Card():\n",
    "    def __init__(self, vagon_type):\n",
    "        if vagon_type in deck_names_inv:\n",
    "            self.strtype = vagon_type\n",
    "            self.inttype = deck_names[vagon_type]\n",
    "    \n",
    "    def __str__(self):\n",
    "        return self.strtype\n",
    "    \n",
    "    def __int__(self):\n",
    "        return self.inttype\n",
    "    \n",
    "\n",
    "def deck_generate(size = 2**20, max_val = 2**27) -> list:\n",
    "    return rd.randint(0, max_val, (size,110))\n",
    "\n",
    "\n",
    "\n",
    "\n",
    "def get_card_from_deck(deck):\n",
    "    r\n",
    "    for i in range(len(deck)):\n",
    "        num -= deck[i]\n",
    "        if num < 0: \n",
    "            deck[i] -=1\n",
    "            target[i] +=1\n",
    "            return\n",
    "\n",
    "def refresh_table(table, deck):\n",
    "    while(np.sum(table) != 5):\n",
    "        get\n",
    "\n",
    "\n",
    "class Player():\n",
    "    \n",
    "    def __init__(self, need_type = \"gray\", need_cnt = 1):\n",
    "        self.holded = np.zeros(9)\n",
    "        self.count = 0\n",
    "        self.ntype = need_type\n",
    "        self.ncnt = need_cnt\n",
    "    \n",
    "    \n",
    "    def __getcardfromtable\n",
    "    \n",
    "    def GetCard(self, nedd_type):\n",
    "        \n",
    "    \n",
    "    \n",
    "    \n",
    "\n",
    "deck_generate()"
   ]
  },
  {
   "cell_type": "code",
   "execution_count": 28,
   "metadata": {},
   "outputs": [
    {
     "data": {
      "text/plain": [
       "array([0., 0., 0., 0., 0., 0., 0., 0., 0.])"
      ]
     },
     "execution_count": 28,
     "metadata": {},
     "output_type": "execute_result"
    }
   ],
   "source": [
    "Misha = Player()\n",
    "Misha.holded"
   ]
  },
  {
   "cell_type": "code",
   "execution_count": null,
   "metadata": {},
   "outputs": [],
   "source": [
    "%%time\n",
    "\n",
    "#Parametrs\n",
    "need_type = \"blue\"\n",
    "need_cnt = 4\n",
    "Num_of_launches = 2 * 10**4\n",
    "CPT = 2\n",
    "ProgressBar = True\n",
    "Get_Locomotives = \"weak\"\n",
    "\n",
    "#Code\n",
    "NOL = Num_of_launches\n",
    "PB = ProgressBar\n",
    "if NOL<100: PB = False\n",
    "GL = Get_Locomotives\n",
    "\n",
    "# fig, m_axs = plt.subplots(1, 2, figsize=(8.4*2, 1*1.8*2), constrained_layout=False)\n",
    "\n",
    "def Turns_for_road_table_np(need_type, need_cnt, ProgressBar = PB, Num_of_launches = NOL,\\\n",
    "                         cards_per_turn = CPT, Get_Locomotives = GL) -> float:\n",
    "    deck = nrd.randint(0, 33554432, 262144)\n",
    "    turns = np.empty((Num_of_launches))\n",
    "\n",
    "    for i in range(Num_of_launches):\n",
    "        if ProgressBar: \n",
    "            if (i+1)%(Num_of_launches//10) == 0: print((i+1)//(Num_of_launches//100), end = \" \")\n",
    "        ct = count_turns_table_np(need_type, need_cnt, cards_per_turn, Get_Locomotives)\n",
    "        turns[i] = ct\n",
    "    \n",
    "    if ProgressBar: print(\"\\n\")\n",
    "        \n",
    "#     fig, m_axs = plt.subplots(1, 1, figsize=(18, 7))   \n",
    "#     m_axs.plot(np.linspace(0,Num_of_launches-1,Num_of_launches),turns)\n",
    "#     plt.show()\n",
    "    \n",
    "    return np.average(turns)\n",
    "\n",
    "print(Turns_for_road_table(need_type, need_cnt, Num_of_launches=NOL))\n"
   ]
  }
 ],
 "metadata": {
  "kernelspec": {
   "display_name": "Python 3",
   "language": "python",
   "name": "python3"
  },
  "language_info": {
   "codemirror_mode": {
    "name": "ipython",
    "version": 3
   },
   "file_extension": ".py",
   "mimetype": "text/x-python",
   "name": "python",
   "nbconvert_exporter": "python",
   "pygments_lexer": "ipython3",
   "version": "3.8.3"
  }
 },
 "nbformat": 4,
 "nbformat_minor": 4
}
