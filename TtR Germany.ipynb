{
 "cells": [
  {
   "cell_type": "markdown",
   "metadata": {},
   "source": [
    "## Вероятность взять n карт, эмпирически\n",
    "Используем принцип Монте-Карло, считая большое число раз количество ходов (СКХ), которые нужны для того, чтобы взять n карт заданного цвета при разном варианте подсчёта. Только 1 игрок. Карты берутся случайно."
   ]
  },
  {
   "cell_type": "code",
   "execution_count": 67,
   "metadata": {},
   "outputs": [],
   "source": [
    "import random as rd\n",
    "import numpy as np\n",
    "\n",
    "def get_vagon(deck) -> (str, int):\n",
    "    deck_names = [\"green\", \"blue\", \"white\", \"yellow\", \"red\", \"black\", \"pink\", \"orange\", \"locomotive\"]\n",
    "    Vagons_in_deck = np.sum(deck)\n",
    "    num = rd.randint(0,Vagons_in_deck-1)\n",
    "#     print(Vagons_in_deck, num)\n",
    "    for i in range(len(deck)):\n",
    "#         print(i, deck, num)\n",
    "        num -= deck[i]\n",
    "        if num <= 0: \n",
    "#             print(i, deck_names[i])\n",
    "            deck[i] -=1\n",
    "            return deck_names[i], i\n",
    "    \n",
    "def check_count(need_type, need_cnt, hand) -> bool:\n",
    "    deck_names = {\"green\":0, \"blue\":1, \"white\":2, \"yellow\":3, \"red\":4, \"black\":5, \"pink\":6, \"orange\":7, \"locomotive\":8}\n",
    "    if need_type != \"gray\": \n",
    "        type_idx = deck_names[need_type]\n",
    "        return need_cnt <= hand[type_idx] + hand[deck_names[\"locomotive\"]]\n",
    "    else:\n",
    "        ans = False\n",
    "        for i in range(8):\n",
    "            if need_cnt <= hand[i] + hand[deck_names[\"locomotive\"]]: ans = True\n",
    "        return ans\n",
    "    \n",
    "    \n",
    "def count_turns(need_type = \"gray\", need_cnt = 1, cards_per_turn = 2) -> float:\n",
    "#     deck = {\"green\":12, \"blue\":12, \"white\":12, \"yellow\":12, \"red\":12, \"black\":12, \"pink\":12, \"orange\":12, \"locomotive\":14}\n",
    "    deck_l = [12,12,12,12,12,12,12,12,14] #green, blue, white, yellow, red, black, pink, orange, locomotive\n",
    "#     hand = {\"green\":0, \"blue\":0, \"white\":0, \"yellow\":0, \"red\":0, \"black\":0, \"pink\":0, \"orange\":0, \"locomotive\":0}\n",
    "    hand_l = [0 for _ in range(9)] #green, blue, white, yellow, red, black, pink, orange, locomotive\n",
    "    turns = 0\n",
    "    \n",
    "    while not check_count(need_type, need_cnt, hand_l):\n",
    "        turns += 1\n",
    "        for i in range(cards_per_turn):\n",
    "            vagon_type, clr_idx = get_vagon(deck_l)\n",
    "            hand_l[clr_idx] +=1\n",
    "    \n",
    "#     print(deck_l, hand_l)\n",
    "    return turns\n"
   ]
  },
  {
   "cell_type": "markdown",
   "metadata": {},
   "source": [
    "### Вот тут можно выбрать любой перегон и посчитать для него СКХ\n",
    "need_type - цвет перегона, на английском (\"green\", \"blue\", \"white\", \"yellow\", \"red\", \"black\", \"pink\", \"orange\", \"gray\")\\\n",
    "need_cnt - длина рассматриваемого перегона\\\n",
    "NOL - количество прогонов случая\\\n",
    "CPT - количество карт, которые берутся в ход.\\\n",
    "PB - Показ статуса подсчёта "
   ]
  },
  {
   "cell_type": "code",
   "execution_count": 68,
   "metadata": {},
   "outputs": [
    {
     "name": "stdout",
     "output_type": "stream",
     "text": [
      "10 20 30 40 50 60 70 80 90 100 \n",
      "\n",
      "6.42305\n",
      "Wall time: 4.42 s\n"
     ]
    }
   ],
   "source": [
    "%%time\n",
    "\n",
    "#Parametrs\n",
    "need_type = \"green\"\n",
    "need_cnt = 3\n",
    "NOL = 2 * 10**4\n",
    "CPT = 2\n",
    "PB = True\n",
    "\n",
    "\n",
    "#Code\n",
    "if NOL<100: PB = False\n",
    "\n",
    "\n",
    "def Turns_for_road(need_type, need_cnt, ProgressBar = PB, Num_of_launches = NOL) -> float:\n",
    "    turns = np.array(())\n",
    "\n",
    "    for i in range(Num_of_launches):\n",
    "        if ProgressBar: \n",
    "            if (i+1)%(Num_of_launches//10) == 0: print((i+1)//(Num_of_launches//100), end = \" \")\n",
    "        ct = count_turns(need_type, need_cnt, cards_per_turn = CPT)\n",
    "        turns = np.append(turns, ct)\n",
    "    \n",
    "    if ProgressBar: print(\"\\n\")\n",
    "    return np.average(turns)\n",
    "\n",
    "print(Turns_for_road(need_type, need_cnt, Num_of_launches=NOL))"
   ]
  },
  {
   "cell_type": "markdown",
   "metadata": {},
   "source": [
    "### А тут считаются все возможные перегоны и записываются в файл.\n",
    "NOL - Количество прогонов каждого случая \\\n",
    "Accuracy - Количество знаков после запятой в ответе \\\n",
    "CPT - Количество карта, которые берутся в ход "
   ]
  },
  {
   "cell_type": "code",
   "execution_count": 26,
   "metadata": {},
   "outputs": [
    {
     "name": "stdout",
     "output_type": "stream",
     "text": [
      "green\n",
      "blue\n",
      "white\n",
      "yellow\n",
      "red\n",
      "black\n",
      "pink\n",
      "orange\n",
      "gray\n",
      "Wall time: 4min 47s\n"
     ]
    }
   ],
   "source": [
    "%%time\n",
    "\n",
    "#Parametrs\n",
    "NOL = 2 * 10**4 # количество прогонов каждого случая\n",
    "Accuracy = 4 # количество знаков после запятой\n",
    "CPT = 2 # количество карт, которые берутся в ход.\n",
    "\n",
    "#Code\n",
    "fout = open(f\"TtR_ANoT_{NOL}.txt\", \"w\") # Average number of turns\n",
    "colors = (\"green\", \"blue\", \"white\", \"yellow\", \"red\", \"black\", \"pink\", \"orange\", \"gray\")\n",
    "Acc = 10**Accuracy\n",
    "ANoT = np.array([0 for _ in range(56)], dtype=float).reshape(8,7) # h - color; w - len\n",
    "\n",
    "fout.write(f\"Average number of turns\\nTable: No\\nPlayers: 1\\nNum_of_launches: {NOL}\\n\"\\\n",
    "           f\"Accuracy: {Accuracy}\\nCards per turn: {CPT}\\n\\n\")\n",
    "for clr_idx, clr in enumerate(colors):\n",
    "    fout.write(f'{clr}\\n')\n",
    "    print(clr)\n",
    "    for cnt in range(1,8):\n",
    "        turns = int(Turns_for_road(clr, cnt, ProgressBar=False, Num_of_launches = NOL)*Acc)/Acc\n",
    "        if clr_idx !=8: ANoT[clr_idx][cnt-1] = turns\n",
    "        fout.write(f'{cnt}: {turns}\\n')\n",
    "\n",
    "fout.write(\"\\nAverages of colors\\n\")\n",
    "# print(ANoT)\n",
    "avg = np.mean(ANoT, axis=0)\n",
    "for cnt in range(7):\n",
    "#     print(int(avg[cnt]*Acc)/Acc)\n",
    "    fout.write(f'{cnt+1}: {int(avg[cnt]*Acc)/Acc}\\n')\n",
    "    \n",
    "fout.close()"
   ]
  },
  {
   "cell_type": "markdown",
   "metadata": {},
   "source": [
    "## Ну теперь добавим на стол 5 карт.\n",
    "Карты берутся уже с учётом того, что есть 5 карт на столе. Только 1 игрок."
   ]
  },
  {
   "cell_type": "code",
   "execution_count": 84,
   "metadata": {},
   "outputs": [],
   "source": [
    "import random as rd\n",
    "from numpy import random as nrd\n",
    "import numpy as np\n",
    "import matplotlib.pyplot as plt\n",
    "\n",
    "deck_names = {\"green\":0, \"blue\":1, \"white\":2, \"yellow\":3, \"red\":4, \"black\":5, \"pink\":6, \"orange\":7, \"locomotive\":8}\n",
    "deck_names_inv = [\"green\", \"blue\", \"white\", \"yellow\", \"red\", \"black\", \"pink\", \"orange\", \"locomotive\", \"gray\"]\n",
    "\n",
    "def get_vagon_from_deck(deck, target) -> None:\n",
    "    Vagons_in_deck = np.sum(deck)\n",
    "    num = rd.randint(0,Vagons_in_deck-1)\n",
    "\n",
    "    for i in range(len(deck)):\n",
    "        num -= deck[i]\n",
    "        if num < 0: \n",
    "            deck[i] -=1\n",
    "            target[i] +=1\n",
    "            return\n",
    "\n",
    "\n",
    "def count_type_on_table(need_type, table) -> int:\n",
    "    try:\n",
    "        return table[deck_names[need_type]]\n",
    "    except:\n",
    "        return 0\n",
    "    \n",
    "\n",
    "def count_type_colleced(need_type, hand) -> int:\n",
    "    if need_type != \"gray\": \n",
    "        type_idx = deck_names[need_type]\n",
    "        return hand[type_idx] + hand[deck_names[\"locomotive\"]]\n",
    "    \n",
    "    else:\n",
    "        max_cnt = 0\n",
    "        for i in range(8):\n",
    "            if max_cnt < hand[i] + hand[deck_names[\"locomotive\"]]: max_cnt = hand[i] + hand[deck_names[\"locomotive\"]]\n",
    "        return max_cnt\n",
    "    \n",
    "    \n",
    "def get_vagon_from_table(deck, hand, table, need_type) -> None:\n",
    "    table[deck_names[need_type]] -=1\n",
    "    hand[deck_names[need_type]] +=1\n",
    "    refresh_table(deck, table)\n",
    "        \n",
    "    return \n",
    "\n",
    "\n",
    "def refresh_table(deck, table) -> None:\n",
    "    while np.sum(table) != 5:\n",
    "        get_vagon_from_deck(deck, table)\n",
    "        if count_type_on_table(\"locomotive\", table) == 3:\n",
    "            table = [0 for _ in range(9)]\n",
    "    \n",
    "    \n",
    "\n",
    "def count_turns_table(need_type = \"gray\", need_cnt = 1, cards_per_turn = 2, locomotive_strategy = \"never\") -> float:\n",
    "    deck = [12,12,12,12,12,12,12,12,14] #green, blue, white, yellow, red, black, pink, orange, locomotive\n",
    "    hand = [0 for _ in range(9)] \n",
    "#     table = [get_vagon_from_deck(deck)[0] for _ in range(5)]\n",
    "    table = [0 for _ in range(9)]\n",
    "    refresh_table(deck, table)\n",
    "    turns = 0\n",
    "    \n",
    "    if need_type != \"gray\":\n",
    "        while count_type_colleced(need_type, hand) < need_cnt:\n",
    "            turns += 1\n",
    "            for i in range(cards_per_turn):\n",
    "                if count_type_on_table(need_type, table)>0:\n",
    "                    get_vagon_from_table(deck, hand, table, need_type)\n",
    "                    continue\n",
    "\n",
    "                if locomotive_strategy == \"weak\":\n",
    "                    if (cards_per_turn-i>0) and (count_type_on_table(\"locomotive\", table))\\\n",
    "                    and count_type_colleced(need_type, hand)+1 == need_cnt:\n",
    "                        get_vagon_from_table(deck, hand, table, \"locomotive\")\n",
    "                        continue\n",
    "\n",
    "                elif locomotive_strategy == \"strong\":\n",
    "                    if (cards_per_turn-i>0) and (count_type_on_table(\"locomotive\", table)):\n",
    "                        get_vagon_from_table(deck, hand, table, \"locomotive\")\n",
    "                        continue\n",
    "\n",
    "                get_vagon_from_deck(deck, hand)\n",
    "    \n",
    "    else:\n",
    "        while count_type_colleced(need_type, hand) < need_cnt:\n",
    "            turns += 1\n",
    "            for i in range(cards_per_turn):\n",
    "                if need_type == \"gray\":\n",
    "                    check_type = deck_names_inv[np.argmax(hand)]\n",
    "\n",
    "                if count_type_on_table(check_type, table)>0:\n",
    "                    get_vagon_from_table(deck, hand, table, check_type)\n",
    "                    continue\n",
    "\n",
    "                if locomotive_strategy == \"weak\":\n",
    "                    if (cards_per_turn-i>0) and (count_type_on_table(\"locomotive\", table))\\\n",
    "                    and count_type_colleced(need_type, hand)+1 == need_cnt:\n",
    "                        get_vagon_from_table(deck, hand, table, \"locomotive\")\n",
    "                        continue\n",
    "\n",
    "                elif locomotive_strategy == \"strong\":\n",
    "                    if (cards_per_turn-i>0) and (count_type_on_table(\"locomotive\", table)):\n",
    "                        get_vagon_from_table(deck, hand, table, \"locomotive\")\n",
    "                        continue\n",
    "\n",
    "                get_vagon_from_deck(deck, hand)\n",
    "    \n",
    "   \n",
    "    \n",
    "    return turns\n"
   ]
  },
  {
   "cell_type": "markdown",
   "metadata": {},
   "source": [
    "### СКХ для любого перегона, стол есть\n",
    "need_type - цвет перегона, на английском (\"green\", \"blue\", \"white\", \"yellow\", \"red\", \"black\", \"pink\", \"orange\", \"gray\")\\\n",
    "need_cnt - длина рассматриваемого перегона\\\n",
    "Num_of_launches - количество прогонов случая\\\n",
    "CPT - количество карт, которые берутся в ход.\\\n",
    "ProgressBar - Показ статуса подсчёта\\\n",
    "Get_Locomotives - будем ли мы брать локомотивы со стола (\"never\", \"weak\", \"strong\")\\\n",
    "    - never - вообще не берём локомотивы со стола\\\n",
    "    - weak - берём локомотив со стола только если он завершает наш набор\\\n",
    "    - strong - берём локомотив со стола, если там нет вагона нужного цвета"
   ]
  },
  {
   "cell_type": "code",
   "execution_count": 85,
   "metadata": {},
   "outputs": [
    {
     "name": "stdout",
     "output_type": "stream",
     "text": [
      "10 20 30 40 50 60 70 80 90 100 \n",
      "\n",
      "6.60505\n",
      "Wall time: 6.7 s\n"
     ]
    }
   ],
   "source": [
    "%%time\n",
    "\n",
    "#Parametrs\n",
    "need_type = \"blue\"\n",
    "need_cnt = 4\n",
    "Num_of_launches = 2 * 10**4\n",
    "CPT = 2\n",
    "ProgressBar = True\n",
    "Get_Locomotives = \"weak\"\n",
    "\n",
    "#Code\n",
    "NOL = Num_of_launches\n",
    "PB = ProgressBar\n",
    "if NOL<100: PB = False\n",
    "GL = Get_Locomotives\n",
    "\n",
    "# fig, m_axs = plt.subplots(1, 2, figsize=(8.4*2, 1*1.8*2), constrained_layout=False)\n",
    "\n",
    "def Turns_for_road_table(need_type, need_cnt, ProgressBar = PB, Num_of_launches = NOL,\\\n",
    "                         cards_per_turn = CPT, Get_Locomotives = GL) -> float:\n",
    "    turns = np.empty((Num_of_launches))\n",
    "\n",
    "    for i in range(Num_of_launches):\n",
    "        if ProgressBar: \n",
    "            if (i+1)%(Num_of_launches//10) == 0: print((i+1)//(Num_of_launches//100), end = \" \")\n",
    "        ct = count_turns_table(need_type, need_cnt, cards_per_turn, Get_Locomotives)\n",
    "        turns[i] = ct\n",
    "    \n",
    "    if ProgressBar: print(\"\\n\")\n",
    "        \n",
    "#     fig, m_axs = plt.subplots(1, 1, figsize=(18, 7))   \n",
    "#     m_axs.plot(np.linspace(0,Num_of_launches-1,Num_of_launches),turns)\n",
    "#     plt.show()\n",
    "    \n",
    "    return np.average(turns)\n",
    "\n",
    "print(Turns_for_road_table(need_type, need_cnt, Num_of_launches=NOL))\n"
   ]
  },
  {
   "cell_type": "markdown",
   "metadata": {},
   "source": [
    "### А тут считаются все возможные перегоны и записываются в файл.\n",
    "NOL - Количество прогонов каждого случая \\\n",
    "Accuracy - Количество знаков после запятой в ответе \\\n",
    "CPT - Количество карта, которые берутся в ход\\\n",
    "Get_locomotives - стратегия, по которой мы берём локомотивы\\\n",
    "    - never - вообще не берём локомотивы со стола\\\n",
    "    - weak - берём локомотив со стола только если он завершает наш набор\\\n",
    "    - strong - берём локомотив со стола, если там нет вагона нужного цвета"
   ]
  },
  {
   "cell_type": "code",
   "execution_count": 105,
   "metadata": {},
   "outputs": [
    {
     "name": "stdout",
     "output_type": "stream",
     "text": [
      "green\n",
      "blue\n",
      "white\n",
      "yellow\n",
      "red\n",
      "black\n",
      "pink\n",
      "orange\n",
      "gray\n",
      "Wall time: 6min 24s\n"
     ]
    }
   ],
   "source": [
    "%%time\n",
    "\n",
    "#Parametrs\n",
    "Num_of_launches = 2 * 10**4 # количество прогонов каждого случая\n",
    "Accuracy = 4 # количество знаков после запятой\n",
    "CPT = 2 # количество карт, которые берутся в ход.\n",
    "Get_Locomotives = \"strong\"\n",
    "\n",
    "\n",
    "#Code\n",
    "GT = Get_Locomotives\n",
    "NOL = Num_of_launches\n",
    "fout = open(f\"ANoT_{NOL}_{CPT}_{GT}.txt\", \"w\") # Average number of turns\n",
    "colors = (\"green\", \"blue\", \"white\", \"yellow\", \"red\", \"black\", \"pink\", \"orange\", \"gray\")\n",
    "Acc = 10**Accuracy\n",
    "ANoT = np.array([0 for _ in range(56)], dtype=float).reshape(8,7) # h - color; w - len\n",
    "\n",
    "fout.write(f\"Average number of turns\\nTable: Yes\\nPlayers: 1\\nNum_of_launches: {NOL}\\n\"\\\n",
    "           f\"Accuracy: {Accuracy}\\nCards per turn: {CPT}\\nLocomotive strategy: {GT}\\n\\n\")\n",
    "\n",
    "\n",
    "for clr_idx, clr in enumerate(colors):\n",
    "    fout.write(f'{clr}\\n')\n",
    "    print(clr)\n",
    "    for cnt in range(1,8):\n",
    "        turns = int(Turns_for_road_table(clr, cnt, ProgressBar=False, Num_of_launches = NOL,\\\n",
    "                                         cards_per_turn = CPT, Get_Locomotives = GT)*Acc)/Acc\n",
    "        if clr_idx !=8: ANoT[clr_idx][cnt-1] = turns\n",
    "        fout.write(f'{cnt}: {turns}\\n')\n",
    "\n",
    "\n",
    "fout.write(\"\\nAverages of colors\\n\")\n",
    "# print(ANoT)\n",
    "avg = np.mean(ANoT, axis=0)\n",
    "for cnt in range(7):\n",
    "#     print(int(avg[cnt]*Acc)/Acc)\n",
    "    fout.write(f'{cnt+1}: {int(avg[cnt]*Acc)/Acc}\\n')\n",
    "    \n",
    "fout.close()"
   ]
  },
  {
   "cell_type": "markdown",
   "metadata": {},
   "source": [
    "### Давайте сравним различные варианты политики взятия локомотивов\n",
    "never - вообще не берём локомотивы со стола\\\n",
    "weak - берём локомотив со стола только если он завершает наш набор\\\n",
    "strong - берём локомотив со стола, если там нет вагона нужного цвета"
   ]
  },
  {
   "cell_type": "code",
   "execution_count": 104,
   "metadata": {},
   "outputs": [
    {
     "name": "stdout",
     "output_type": "stream",
     "text": [
      "never\n",
      "weak\n",
      "strong\n",
      "[[1.4161 2.4527 3.7674 5.1661 6.5664 7.9147 9.2289]\n",
      " [1.1728 1.9459 3.1948 4.5777 5.9641 7.2867 8.688 ]\n",
      " [1.1794 1.802  2.8666 4.2477 5.5354 6.8766 8.2684]]\n"
     ]
    },
    {
     "data": {
      "image/png": "[encoded data removed]",
      "text/plain": [
       "<Figure size 1008x864 with 1 Axes>"
      ]
     },
     "metadata": {
      "needs_background": "light"
     },
     "output_type": "display_data"
    },
    {
     "name": "stdout",
     "output_type": "stream",
     "text": [
      "Wall time: 2min 30s\n"
     ]
    }
   ],
   "source": [
    "%%time\n",
    "\n",
    "#Parametrs\n",
    "NOL = 2 * 10**4 # количество прогонов каждого случая\n",
    "Accuracy = 4 # количество знаков после запятой\n",
    "CPT = 3 # количество карт, которые берутся в ход.\n",
    "Max_cards = 7\n",
    "\n",
    "\n",
    "#Code\n",
    "clr = \"green\"\n",
    "plot_colors = ('g', 'r', 'b')\n",
    "Get_Locomotives = (\"never\", \"weak\", \"strong\")\n",
    "Acc = 10**Accuracy\n",
    "GL = Get_Locomotives\n",
    "MX = Max_cards\n",
    "turns_plot = np.empty((3,MX))\n",
    "\n",
    "\n",
    "fig, m_axs = plt.subplots(1, 1, figsize=(14, 12)) \n",
    "plt.grid()\n",
    "for loc_idx, loc_str in enumerate(GL):\n",
    "    print(GL[loc_idx])\n",
    "    for cnt in range(1,MX+1):\n",
    "        turns_plot[loc_idx][cnt-1] = int(Turns_for_road_table\\\n",
    "                     (clr, cnt, ProgressBar=False, Num_of_launches = NOL,\\\n",
    "                      cards_per_turn = CPT, Get_Locomotives = loc_str)*Acc)/Acc\n",
    "\n",
    "    m_axs.plot(np.linspace(1,len(turns_plot[loc_idx]),len(turns_plot[loc_idx])),turns_plot[loc_idx],\\\n",
    "               color = plot_colors[loc_idx], label=GL[loc_idx]) \n",
    "\n",
    "m_axs.set_title(f\"Testing color: {clr}\")\n",
    "    \n",
    "print(turns_plot)\n",
    "plt.legend()\n",
    "plt.show()"
   ]
  },
  {
   "cell_type": "markdown",
   "metadata": {},
   "source": [
    "## Добавить игроков? Пфф, да легко\n",
    "На самом деле это было не очень легко, тем более что модель других игроков только одна: \"Simple\".\\\n",
    "Дальше попробую что-то с этим сделать."
   ]
  },
  {
   "cell_type": "code",
   "execution_count": null,
   "metadata": {},
   "outputs": [],
   "source": []
  },
  {
   "cell_type": "code",
   "execution_count": null,
   "metadata": {},
   "outputs": [],
   "source": []
  },
  {
   "cell_type": "markdown",
   "metadata": {},
   "source": [
    "## Считаем стоимость маршрутов \n",
    "Дейкстрой пробегаем по маршрутам, используя в качестве весов СКХ, требуемое на перегон, вычисленное пунктом выше."
   ]
  },
  {
   "cell_type": "code",
   "execution_count": null,
   "metadata": {},
   "outputs": [],
   "source": []
  }
 ],
 "metadata": {
  "kernelspec": {
   "display_name": "Python 3",
   "language": "python",
   "name": "python3"
  },
  "language_info": {
   "codemirror_mode": {
    "name": "ipython",
    "version": 3
   },
   "file_extension": ".py",
   "mimetype": "text/x-python",
   "name": "python",
   "nbconvert_exporter": "python",
   "pygments_lexer": "ipython3",
   "version": "3.8.3"
  }
 },
 "nbformat": 4,
 "nbformat_minor": 4
}
